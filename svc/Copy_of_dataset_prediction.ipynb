{
  "cells": [
    {
      "cell_type": "markdown",
      "metadata": {
        "id": "TpvYJyyWHJhm"
      },
      "source": [
        "#NAIVE BAYES"
      ]
    },
    {
      "cell_type": "code",
      "execution_count": 2,
      "metadata": {
        "colab": {
          "base_uri": "https://localhost:8080/"
        },
        "id": "MtrozJJeLeSd",
        "outputId": "9713fab6-e708-4563-b407-29c620a8a3b7"
      },
      "outputs": [
        {
          "ename": "ModuleNotFoundError",
          "evalue": "No module named 'pandas'",
          "output_type": "error",
          "traceback": [
            "\u001b[1;31m---------------------------------------------------------------------------\u001b[0m",
            "\u001b[1;31mModuleNotFoundError\u001b[0m                       Traceback (most recent call last)",
            "Cell \u001b[1;32mIn[2], line 1\u001b[0m\n\u001b[1;32m----> 1\u001b[0m \u001b[38;5;28;01mimport\u001b[39;00m \u001b[38;5;21;01mpandas\u001b[39;00m \u001b[38;5;28;01mas\u001b[39;00m \u001b[38;5;21;01mpd\u001b[39;00m\n\u001b[0;32m      2\u001b[0m data \u001b[38;5;241m=\u001b[39m pd\u001b[38;5;241m.\u001b[39mread_excel(\u001b[38;5;124m'\u001b[39m\u001b[38;5;124mnew dataset.xlsx\u001b[39m\u001b[38;5;124m'\u001b[39m)\n\u001b[0;32m      3\u001b[0m \u001b[38;5;28mprint\u001b[39m(data)\n",
            "\u001b[1;31mModuleNotFoundError\u001b[0m: No module named 'pandas'"
          ]
        }
      ],
      "source": [
        "import pandas as pd\n",
        "data = pd.read_excel('new dataset.xlsx')\n",
        "print(data)"
      ]
    },
    {
      "cell_type": "code",
      "execution_count": null,
      "metadata": {},
      "outputs": [
        {
          "name": "stdout",
          "output_type": "stream",
          "text": [
            "Correlation Matrix:\n",
            "                          Air temperature_[K]  Rotational speed_[rpm]  \\\n",
            "Air temperature_[K]                 1.000000               -0.101854   \n",
            "Rotational speed_[rpm]             -0.101854                1.000000   \n",
            "Torque_[Nm]                         0.028020               -0.823738   \n",
            "Tool wear_[min]                    -0.137497                0.018183   \n",
            "Process temperature_[K]             0.842869               -0.037526   \n",
            "\n",
            "                         Torque_[Nm]  Tool wear_[min]  Process temperature_[K]  \n",
            "Air temperature_[K]         0.028020        -0.137497                 0.842869  \n",
            "Rotational speed_[rpm]     -0.823738         0.018183                -0.037526  \n",
            "Torque_[Nm]                 1.000000        -0.113919                -0.013952  \n",
            "Tool wear_[min]            -0.113919         1.000000                -0.078890  \n",
            "Process temperature_[K]    -0.013952        -0.078890                 1.000000  \n",
            "Classification Report:\n",
            "               precision    recall  f1-score   support\n",
            "\n",
            "         HDF       0.98      1.00      0.99      2917\n",
            "          NF       0.98      0.76      0.86      2924\n",
            "          OF       0.96      1.00      0.98      2897\n",
            "          PF       0.99      1.00      0.99      2896\n",
            "          RF       0.86      0.99      0.92      2780\n",
            "         TWF       0.95      0.96      0.96      2961\n",
            "\n",
            "    accuracy                           0.95     17375\n",
            "   macro avg       0.95      0.95      0.95     17375\n",
            "weighted avg       0.95      0.95      0.95     17375\n",
            "\n"
          ]
        }
      ],
      "source": [
        "import pandas as pd\n",
        "from sklearn.preprocessing import StandardScaler\n",
        "from sklearn.model_selection import train_test_split\n",
        "from sklearn.svm import SVC\n",
        "from sklearn.metrics import classification_report\n",
        "\n",
        "# Read the dataset from Excel\n",
        "data = pd.read_excel('newdataset.xlsx')\n",
        "\n",
        "# Shuffle the dataset for generalization\n",
        "shuffled_data = data.sample(frac=1, random_state=42).reset_index(drop=True)\n",
        "\n",
        "# Extract features (x) and target (y)\n",
        "x = shuffled_data.iloc[1:, 1:6]\n",
        "y = shuffled_data.iloc[1:, 6]\n",
        "\n",
        "# Calculate Pearson correlation matrix\n",
        "correlation_matrix = x.corr()\n",
        "print(\"Correlation Matrix:\\n\", correlation_matrix)\n",
        "\n",
        "# Standardize features\n",
        "scaler = StandardScaler()\n",
        "x_scaled = scaler.fit_transform(x)\n",
        "\n",
        "# Split the dataset into training and testing sets\n",
        "x_train, x_test, y_train, y_test = train_test_split(x_scaled, y, train_size=0.7)\n",
        "\n",
        "# Train the Support Vector Classifier\n",
        "model = SVC()\n",
        "model.fit(x_train, y_train)\n",
        "\n",
        "# Make predictions\n",
        "predictions = model.predict(x_test)\n",
        "\n",
        "# Evaluate the model\n",
        "classification_rep = classification_report(y_test, predictions)\n",
        "print(\"Classification Report:\\n\", classification_rep)\n"
      ]
    },
    {
      "cell_type": "code",
      "execution_count": null,
      "metadata": {},
      "outputs": [
        {
          "data": {
            "text/plain": [
              "['newmodel.joblib']"
            ]
          },
          "execution_count": 30,
          "metadata": {},
          "output_type": "execute_result"
        }
      ],
      "source": [
        "import joblib\n",
        "joblib.dump(model, 'newmodel.joblib')"
      ]
    },
    {
      "cell_type": "code",
      "execution_count": null,
      "metadata": {
        "colab": {
          "base_uri": "https://localhost:8080/"
        },
        "id": "D6ybPJbtLgzq",
        "outputId": "7a12eaa4-2d0e-44d0-da12-b1310fbd444e"
      },
      "outputs": [
        {
          "name": "stdout",
          "output_type": "stream",
          "text": [
            "       Air temperature_[K]  Rotational speed_[rpm]  Torque_[Nm]  \\\n",
            "1               298.100000                    1498    49.400000   \n",
            "2               298.200000                    1433    39.500000   \n",
            "3               298.200000                    1408    40.000000   \n",
            "4               298.100000                    1425    41.900000   \n",
            "5               298.100000                    1558    42.400000   \n",
            "...                    ...                     ...          ...   \n",
            "57911           300.449902                    2117    18.578445   \n",
            "57912           300.132027                    2144    18.169749   \n",
            "57913           300.631863                    2102    18.812395   \n",
            "57914           298.433410                    2187    18.157433   \n",
            "57915           299.289070                    1992    21.161303   \n",
            "\n",
            "       Tool wear_[min]  Process temperature_[K]  \n",
            "1                    5               308.500000  \n",
            "2                    7               308.600000  \n",
            "3                    9               308.700000  \n",
            "4                   11               308.600000  \n",
            "5                   14               308.600000  \n",
            "...                ...                      ...  \n",
            "57911              230               311.473720  \n",
            "57912              228               311.186120  \n",
            "57913              231               311.638352  \n",
            "57914              214               309.612586  \n",
            "57915              222               309.386558  \n",
            "\n",
            "[57915 rows x 5 columns]\n"
          ]
        }
      ],
      "source": [
        "# x=data[[\"Air temperature_[K]\",\"Process temperature_[K]\",\"Rotational speed_[rpm]\",\n",
        "#         \"Torque_[Nm]\",\"Tool wear_[min]\"]]\n",
        "x = data.iloc[1:,1:6]\n",
        "print(x)"
      ]
    },
    {
      "cell_type": "code",
      "execution_count": null,
      "metadata": {
        "colab": {
          "base_uri": "https://localhost:8080/",
          "height": 175
        },
        "id": "bo7P3tEhwHGA",
        "outputId": "982cf637-f62b-4e8d-fbe9-1917e8edb584"
      },
      "outputs": [
        {
          "data": {
            "text/html": [
              "<div>\n",
              "<style scoped>\n",
              "    .dataframe tbody tr th:only-of-type {\n",
              "        vertical-align: middle;\n",
              "    }\n",
              "\n",
              "    .dataframe tbody tr th {\n",
              "        vertical-align: top;\n",
              "    }\n",
              "\n",
              "    .dataframe thead th {\n",
              "        text-align: right;\n",
              "    }\n",
              "</style>\n",
              "<table border=\"1\" class=\"dataframe\">\n",
              "  <thead>\n",
              "    <tr style=\"text-align: right;\">\n",
              "      <th></th>\n",
              "      <th>Air temperature_[K]</th>\n",
              "      <th>Rotational speed_[rpm]</th>\n",
              "      <th>Torque_[Nm]</th>\n",
              "      <th>Tool wear_[min]</th>\n",
              "      <th>Process temperature_[K]</th>\n",
              "    </tr>\n",
              "  </thead>\n",
              "  <tbody>\n",
              "    <tr>\n",
              "      <th>Air temperature_[K]</th>\n",
              "      <td>1.000000</td>\n",
              "      <td>-0.101870</td>\n",
              "      <td>0.028024</td>\n",
              "      <td>-0.137544</td>\n",
              "      <td>0.842863</td>\n",
              "    </tr>\n",
              "    <tr>\n",
              "      <th>Rotational speed_[rpm]</th>\n",
              "      <td>-0.101870</td>\n",
              "      <td>1.000000</td>\n",
              "      <td>-0.823739</td>\n",
              "      <td>0.018172</td>\n",
              "      <td>-0.037536</td>\n",
              "    </tr>\n",
              "    <tr>\n",
              "      <th>Torque_[Nm]</th>\n",
              "      <td>0.028024</td>\n",
              "      <td>-0.823739</td>\n",
              "      <td>1.000000</td>\n",
              "      <td>-0.113926</td>\n",
              "      <td>-0.013952</td>\n",
              "    </tr>\n",
              "    <tr>\n",
              "      <th>Tool wear_[min]</th>\n",
              "      <td>-0.137544</td>\n",
              "      <td>0.018172</td>\n",
              "      <td>-0.113926</td>\n",
              "      <td>1.000000</td>\n",
              "      <td>-0.078935</td>\n",
              "    </tr>\n",
              "    <tr>\n",
              "      <th>Process temperature_[K]</th>\n",
              "      <td>0.842863</td>\n",
              "      <td>-0.037536</td>\n",
              "      <td>-0.013952</td>\n",
              "      <td>-0.078935</td>\n",
              "      <td>1.000000</td>\n",
              "    </tr>\n",
              "  </tbody>\n",
              "</table>\n",
              "</div>"
            ],
            "text/plain": [
              "                         Air temperature_[K]  Rotational speed_[rpm]  \\\n",
              "Air temperature_[K]                 1.000000               -0.101870   \n",
              "Rotational speed_[rpm]             -0.101870                1.000000   \n",
              "Torque_[Nm]                         0.028024               -0.823739   \n",
              "Tool wear_[min]                    -0.137544                0.018172   \n",
              "Process temperature_[K]             0.842863               -0.037536   \n",
              "\n",
              "                         Torque_[Nm]  Tool wear_[min]  Process temperature_[K]  \n",
              "Air temperature_[K]         0.028024        -0.137544                 0.842863  \n",
              "Rotational speed_[rpm]     -0.823739         0.018172                -0.037536  \n",
              "Torque_[Nm]                 1.000000        -0.113926                -0.013952  \n",
              "Tool wear_[min]            -0.113926         1.000000                -0.078935  \n",
              "Process temperature_[K]    -0.013952        -0.078935                 1.000000  "
            ]
          },
          "execution_count": 4,
          "metadata": {},
          "output_type": "execute_result"
        }
      ],
      "source": [
        "x.corr()"
      ]
    },
    {
      "cell_type": "code",
      "execution_count": null,
      "metadata": {
        "colab": {
          "base_uri": "https://localhost:8080/"
        },
        "id": "c1OHQwxILhts",
        "outputId": "6864228a-f33b-497c-cbc2-e24429fdc84d"
      },
      "outputs": [
        {
          "name": "stdout",
          "output_type": "stream",
          "text": [
            "1         NF\n",
            "2         NF\n",
            "3         NF\n",
            "4         NF\n",
            "5         NF\n",
            "        ... \n",
            "57911    TWF\n",
            "57912    TWF\n",
            "57913    TWF\n",
            "57914    TWF\n",
            "57915    TWF\n",
            "Name: Failure_Type, Length: 57915, dtype: object\n"
          ]
        }
      ],
      "source": [
        "y=data.iloc[1:,6]\n",
        "print(y)"
      ]
    },
    {
      "cell_type": "code",
      "execution_count": null,
      "metadata": {
        "id": "y6jBrKMEnUcz"
      },
      "outputs": [],
      "source": [
        "from sklearn.preprocessing import StandardScaler\n",
        "scaler = StandardScaler()\n",
        "x = scaler.fit_transform(x)\n"
      ]
    },
    {
      "cell_type": "code",
      "execution_count": null,
      "metadata": {
        "colab": {
          "base_uri": "https://localhost:8080/"
        },
        "id": "0ViK4a6TnblP",
        "outputId": "2063fc29-5551-4a47-ad94-064ac097e932"
      },
      "outputs": [
        {
          "name": "stdout",
          "output_type": "stream",
          "text": [
            "[[-1.35406978  0.14308996  0.09387316 -2.00371741 -1.40129086]\n",
            " [-1.29855746 -0.1502469  -0.64290247 -1.97496047 -1.32114524]\n",
            " [-1.29855746 -0.26306877 -0.60569158 -1.94620353 -1.24099962]\n",
            " ...\n",
            " [ 0.05142588  2.86886638 -2.18251087  1.24581676  1.11396078]\n",
            " [-1.16898619  3.25246074 -2.23125429  1.00138277 -0.50960176]\n",
            " [-0.69398954  2.37245014 -2.00770094  1.11641053 -0.6907534 ]]\n"
          ]
        }
      ],
      "source": [
        "print(x)"
      ]
    },
    {
      "cell_type": "code",
      "execution_count": null,
      "metadata": {
        "colab": {
          "base_uri": "https://localhost:8080/"
        },
        "id": "oq8Agd1HPRsp",
        "outputId": "9ebd6708-4a8f-4a9a-9273-0b72928c88a4"
      },
      "outputs": [
        {
          "name": "stdout",
          "output_type": "stream",
          "text": [
            "Before Counter({'NF': 9651, 'HDF': 112, 'PF': 95, 'OF': 78, 'TWF': 45, 'RF': 18})\n"
          ]
        }
      ],
      "source": [
        "#before performing oversampling\n",
        "# from imblearn.over_sampling import ADASYN\n",
        "# from collections import Counter\n",
        "# counter = Counter(y)\n",
        "# print(\"Before\",counter)\n"
      ]
    },
    {
      "cell_type": "code",
      "execution_count": null,
      "metadata": {
        "colab": {
          "base_uri": "https://localhost:8080/"
        },
        "id": "R21eKvHuRHhk",
        "outputId": "b3257eec-41f6-4019-be9f-fe6c16a7a494"
      },
      "outputs": [
        {
          "name": "stdout",
          "output_type": "stream",
          "text": [
            "After Counter({'HDF': 9688, 'NF': 9651, 'RF': 9648, 'PF': 9647, 'OF': 9645, 'TWF': 9637})\n"
          ]
        }
      ],
      "source": [
        "#after performing oversampling\n",
        "# ada = ADASYN(random_state = 130)\n",
        "# x_new_ada,y_new_ada = ada.fit_resample(x,y)\n",
        "# counter = Counter(y_new_ada)\n",
        "# print(\"After\",counter)"
      ]
    },
    {
      "cell_type": "code",
      "execution_count": null,
      "metadata": {
        "id": "PJea8ydBdC5S"
      },
      "outputs": [],
      "source": [
        "# x_new_ada.to_excel(\"demo1.xlsx\")"
      ]
    },
    {
      "cell_type": "code",
      "execution_count": null,
      "metadata": {
        "id": "dKsEyaeUdlWe"
      },
      "outputs": [],
      "source": [
        "# y_new_ada.to_excel(\"demo2.xlsx\")"
      ]
    },
    {
      "cell_type": "code",
      "execution_count": null,
      "metadata": {
        "id": "eNYuyrfNLleA"
      },
      "outputs": [],
      "source": [
        "from sklearn.model_selection import train_test_split\n",
        "xtrain,xtest,ytrain,ytest = train_test_split(x,y,train_size=0.7)\n"
      ]
    },
    {
      "cell_type": "code",
      "execution_count": null,
      "metadata": {
        "id": "VDtUcumpmwjk"
      },
      "outputs": [],
      "source": []
    },
    {
      "cell_type": "code",
      "execution_count": null,
      "metadata": {
        "id": "S_iioH5PQglL"
      },
      "outputs": [],
      "source": [
        "from sklearn.naive_bayes import GaussianNB\n",
        "model = GaussianNB()\n",
        "model=model.fit(xtrain,ytrain)"
      ]
    },
    {
      "cell_type": "code",
      "execution_count": null,
      "metadata": {
        "id": "sg7lpYdd_1wY"
      },
      "outputs": [],
      "source": []
    },
    {
      "cell_type": "code",
      "execution_count": null,
      "metadata": {
        "colab": {
          "base_uri": "https://localhost:8080/"
        },
        "id": "_eGduNC2_n2s",
        "outputId": "bc30ba0f-9c28-4e01-f978-6846e354c25e"
      },
      "outputs": [
        {
          "name": "stdout",
          "output_type": "stream",
          "text": [
            "['PF']\n"
          ]
        }
      ],
      "source": [
        "op=model.predict([[298.9,308.1,1281,60.7,42.8]])\n",
        "print(op)"
      ]
    },
    {
      "cell_type": "code",
      "execution_count": null,
      "metadata": {
        "colab": {
          "base_uri": "https://localhost:8080/"
        },
        "id": "A9Ob1_25LnEc",
        "outputId": "c08b38d8-60ca-4f09-80fa-f3af10826750"
      },
      "outputs": [
        {
          "name": "stdout",
          "output_type": "stream",
          "text": [
            "['OF' 'RF' 'RF' ... 'TWF' 'RF' 'RF']\n"
          ]
        }
      ],
      "source": [
        "# op=model.predict([[298.9,308.1,1281,60.7,214]])\n",
        "op=model.predict(xtest)\n",
        "print(op)\n",
        "# if op ==0:\n",
        "#   print(\"No failure\")\n",
        "# else:\n",
        "#   print(\"failure\")"
      ]
    },
    {
      "cell_type": "code",
      "execution_count": null,
      "metadata": {},
      "outputs": [
        {
          "data": {
            "text/plain": [
              "['trained_model.joblib']"
            ]
          },
          "execution_count": 13,
          "metadata": {},
          "output_type": "execute_result"
        }
      ],
      "source": [
        "import joblib\n",
        "joblib.dump(model, 'trained_model.joblib')"
      ]
    },
    {
      "cell_type": "code",
      "execution_count": null,
      "metadata": {
        "colab": {
          "base_uri": "https://localhost:8080/"
        },
        "id": "AAfo6aa1L7mJ",
        "outputId": "2a1a4e8d-bd79-4f66-9fac-ba7f65b76fe8"
      },
      "outputs": [
        {
          "name": "stdout",
          "output_type": "stream",
          "text": [
            "              precision    recall  f1-score   support\n",
            "\n",
            "         HDF       0.78      0.95      0.86      2964\n",
            "          NF       0.66      0.42      0.51      2807\n",
            "          OF       0.78      0.92      0.84      2921\n",
            "          PF       0.88      0.76      0.82      2889\n",
            "          RF       0.60      0.62      0.61      2910\n",
            "         TWF       0.85      0.89      0.87      2884\n",
            "\n",
            "    accuracy                           0.76     17375\n",
            "   macro avg       0.76      0.76      0.75     17375\n",
            "weighted avg       0.76      0.76      0.75     17375\n",
            "\n"
          ]
        }
      ],
      "source": [
        "from sklearn.metrics import classification_report\n",
        "cr=classification_report(ytest,op)\n",
        "print(cr)"
      ]
    },
    {
      "cell_type": "code",
      "execution_count": null,
      "metadata": {},
      "outputs": [],
      "source": []
    },
    {
      "cell_type": "code",
      "execution_count": null,
      "metadata": {
        "colab": {
          "base_uri": "https://localhost:8080/"
        },
        "id": "d-ffgIruL1TK",
        "outputId": "cb566db2-bd55-4200-aef6-782bdb189e98"
      },
      "outputs": [
        {
          "name": "stdout",
          "output_type": "stream",
          "text": [
            "[[2715    0  114   60    0    0]\n",
            " [  97 1238   93  180 1040  188]\n",
            " [  26    0 2705   41   37  103]\n",
            " [ 243    0  312 2187  150    0]\n",
            " [ 353  646    0    0 1807  135]\n",
            " [   0    0  243   14   44 2604]]\n"
          ]
        }
      ],
      "source": [
        "from sklearn.metrics import confusion_matrix,ConfusionMatrixDisplay\n",
        "cm=confusion_matrix(ytest,op)\n",
        "print(cm)"
      ]
    },
    {
      "cell_type": "code",
      "execution_count": null,
      "metadata": {
        "id": "4MyPZALJ89kr"
      },
      "outputs": [],
      "source": [
        "# Tool Wear Failure\n",
        "# Overstrain Failure\n",
        "# Random Failure\n",
        "# No Failure\n",
        "# Heat Dissipation Failure\n",
        "# Power Failure"
      ]
    },
    {
      "cell_type": "code",
      "execution_count": null,
      "metadata": {
        "colab": {
          "base_uri": "https://localhost:8080/",
          "height": 466
        },
        "id": "Mz2PdXrrL-uc",
        "outputId": "c4ce0d94-7afe-4755-e357-1c10c0a31a1d"
      },
      "outputs": [
        {
          "data": {
            "text/plain": [
              "<sklearn.metrics._plot.confusion_matrix.ConfusionMatrixDisplay at 0x7fa5784ebbe0>"
            ]
          },
          "execution_count": 20,
          "metadata": {},
          "output_type": "execute_result"
        },
        {
          "data": {
            "image/png": "[encoded data removed]",
            "text/plain": [
              "<Figure size 640x480 with 2 Axes>"
            ]
          },
          "metadata": {},
          "output_type": "display_data"
        }
      ],
      "source": [
        "disp=ConfusionMatrixDisplay(confusion_matrix=cm,display_labels=model.classes_)\n",
        "disp.plot()"
      ]
    },
    {
      "cell_type": "code",
      "execution_count": null,
      "metadata": {
        "colab": {
          "base_uri": "https://localhost:8080/"
        },
        "id": "lLyMAD8qToJt",
        "outputId": "9c76fc85-eefd-4963-aa0c-dd826587b45f"
      },
      "outputs": [
        {
          "name": "stdout",
          "output_type": "stream",
          "text": [
            "0.7605179856115107\n"
          ]
        }
      ],
      "source": [
        "from sklearn.metrics import accuracy_score\n",
        "score = accuracy_score(ytest,op)\n",
        "print(score)"
      ]
    },
    {
      "cell_type": "code",
      "execution_count": null,
      "metadata": {
        "colab": {
          "base_uri": "https://localhost:8080/"
        },
        "id": "JBWMuw11TrLU",
        "outputId": "56e7402f-4fb4-4d49-cbbf-e2d0e08e245f"
      },
      "outputs": [
        {
          "name": "stdout",
          "output_type": "stream",
          "text": [
            "75.86325966850829\n"
          ]
        }
      ],
      "source": [
        "print(score*100)"
      ]
    },
    {
      "cell_type": "code",
      "execution_count": null,
      "metadata": {
        "id": "fVE1iNdzFijm"
      },
      "outputs": [],
      "source": []
    },
    {
      "cell_type": "markdown",
      "metadata": {
        "id": "mb3l-vomGhZH"
      },
      "source": [
        "#SVM"
      ]
    },
    {
      "cell_type": "code",
      "execution_count": null,
      "metadata": {
        "colab": {
          "base_uri": "https://localhost:8080/",
          "height": 321
        },
        "id": "Biz6kqzRHG9l",
        "outputId": "1cc74b0d-b446-428e-e962-cb8702877309"
      },
      "outputs": [
        {
          "name": "stdout",
          "output_type": "stream",
          "text": [
            "       SL.No  Air temperature_[K]  Rotational speed_[rpm]  Torque_[Nm]  \\\n",
            "0       1784           298.300000                    2886     3.800000   \n",
            "1        463           297.400000                    2874     4.200000   \n",
            "2         50           298.900000                    2861     4.600000   \n",
            "3        847           296.400000                    2833     5.600000   \n",
            "4       4296           301.800000                    2825     5.800000   \n",
            "...      ...                  ...                     ...          ...   \n",
            "57911  37246           299.804054                    1204    76.548179   \n",
            "57912  37315           300.260142                    1201    76.587838   \n",
            "57913  37277           300.298573                    1200    76.591180   \n",
            "57914  37311           300.377017                    1200    76.598002   \n",
            "57915   7763           300.400000                    1200    76.600000   \n",
            "\n",
            "       Tool wear_[min]  Process temperature_[K] Failure_Type  \n",
            "0                   57               308.000000           PF  \n",
            "1                  118               308.700000           PF  \n",
            "2                  143               309.100000           PF  \n",
            "3                  213               307.400000           PF  \n",
            "4                  215               310.200000           PF  \n",
            "...                ...                      ...          ...  \n",
            "57911               14               310.913366           PF  \n",
            "57912                5               311.438859           PF  \n",
            "57913                4               311.483138           PF  \n",
            "57914                3               311.573520           PF  \n",
            "57915                3               311.600000           PF  \n",
            "\n",
            "[57916 rows x 7 columns]\n"
          ]
        }
      ],
      "source": [
        "import pandas as pd\n",
        "data = pd.read_excel('newdataset.xlsx')\n",
        "print(data)"
      ]
    },
    {
      "cell_type": "markdown",
      "metadata": {
        "id": "PCpXr09rD4Pc"
      },
      "source": []
    },
    {
      "cell_type": "code",
      "execution_count": null,
      "metadata": {
        "colab": {
          "base_uri": "https://localhost:8080/"
        },
        "id": "qoxHuB-RIs-b",
        "outputId": "9efd879e-b5c3-4cfc-c721-9e64ddbad966"
      },
      "outputs": [
        {
          "name": "stdout",
          "output_type": "stream",
          "text": [
            "       Air temperature_[K]  Rotational speed_[rpm]  Torque_[Nm]  \\\n",
            "1               297.400000                    2874     4.200000   \n",
            "2               298.900000                    2861     4.600000   \n",
            "3               296.400000                    2833     5.600000   \n",
            "4               301.800000                    2825     5.800000   \n",
            "5               301.500000                    2760     8.000000   \n",
            "...                    ...                     ...          ...   \n",
            "57911           299.804054                    1204    76.548179   \n",
            "57912           300.260142                    1201    76.587838   \n",
            "57913           300.298573                    1200    76.591180   \n",
            "57914           300.377017                    1200    76.598002   \n",
            "57915           300.400000                    1200    76.600000   \n",
            "\n",
            "       Tool wear_[min]  Process temperature_[K]  \n",
            "1                  118               308.700000  \n",
            "2                  143               309.100000  \n",
            "3                  213               307.400000  \n",
            "4                  215               310.200000  \n",
            "5                   15               310.900000  \n",
            "...                ...                      ...  \n",
            "57911               14               310.913366  \n",
            "57912                5               311.438859  \n",
            "57913                4               311.483138  \n",
            "57914                3               311.573520  \n",
            "57915                3               311.600000  \n",
            "\n",
            "[57915 rows x 5 columns]\n"
          ]
        }
      ],
      "source": [
        "x = data.iloc[1:,1:6]\n",
        "print(x)"
      ]
    },
    {
      "cell_type": "code",
      "execution_count": null,
      "metadata": {
        "colab": {
          "base_uri": "https://localhost:8080/"
        },
        "id": "ati6ZUWzCOHF",
        "outputId": "998c25b9-0520-45fc-dcc9-978c9f6efbca"
      },
      "outputs": [
        {
          "name": "stdout",
          "output_type": "stream",
          "text": [
            "1        PF\n",
            "2        PF\n",
            "3        PF\n",
            "4        PF\n",
            "5        PF\n",
            "         ..\n",
            "57911    PF\n",
            "57912    PF\n",
            "57913    PF\n",
            "57914    PF\n",
            "57915    PF\n",
            "Name: Failure_Type, Length: 57915, dtype: object\n"
          ]
        }
      ],
      "source": [
        "y=data.iloc[1:,6]\n",
        "print(y)"
      ]
    },
    {
      "cell_type": "markdown",
      "metadata": {
        "id": "N1XzbUhqCaiR"
      },
      "source": [
        "#correlation matrix"
      ]
    },
    {
      "cell_type": "code",
      "execution_count": null,
      "metadata": {
        "colab": {
          "base_uri": "https://localhost:8080/"
        },
        "id": "dd8S8fFH3FUg",
        "outputId": "cc5e6dd3-9db8-4a45-d93f-e8b32a38388a"
      },
      "outputs": [
        {
          "name": "stdout",
          "output_type": "stream",
          "text": [
            "                         Air temperature_[K]  Rotational speed_[rpm]  \\\n",
            "Air temperature_[K]                 1.000000               -0.101763   \n",
            "Rotational speed_[rpm]             -0.101763                1.000000   \n",
            "Torque_[Nm]                         0.027959               -0.823743   \n",
            "Tool wear_[min]                    -0.137522                0.018326   \n",
            "Process temperature_[K]             0.842863               -0.037345   \n",
            "\n",
            "                         Torque_[Nm]  Tool wear_[min]  Process temperature_[K]  \n",
            "Air temperature_[K]         0.027959        -0.137522                 0.842863  \n",
            "Rotational speed_[rpm]     -0.823743         0.018326                -0.037345  \n",
            "Torque_[Nm]                 1.000000        -0.114001                -0.014054  \n",
            "Tool wear_[min]            -0.114001         1.000000                -0.078930  \n",
            "Process temperature_[K]    -0.014054        -0.078930                 1.000000  \n"
          ]
        }
      ],
      "source": [
        "# Calculate Pearson correlation matrix\n",
        "correlation_matrix = x.corr()\n",
        "# x.corr()\n",
        "# Print the correlation matrix\n",
        "print(correlation_matrix)"
      ]
    },
    {
      "cell_type": "code",
      "execution_count": null,
      "metadata": {
        "colab": {
          "base_uri": "https://localhost:8080/",
          "height": 839
        },
        "id": "MAGnZ1PG29Kw",
        "outputId": "642856c3-59f8-4b03-a90b-c175f92fbadb"
      },
      "outputs": [
        {
          "data": {
            "image/png": "[encoded data removed]",
            "text/plain": [
              "<Figure size 1000x800 with 2 Axes>"
            ]
          },
          "metadata": {},
          "output_type": "display_data"
        }
      ],
      "source": [
        "import seaborn as sns\n",
        "import matplotlib.pyplot as plt\n",
        "\n",
        "# Create a heatmap of the correlation matrix\n",
        "plt.figure(figsize=(10, 8))\n",
        "sns.heatmap(correlation_matrix, annot=True, cmap='coolwarm', center=0)\n",
        "plt.show()"
      ]
    },
    {
      "cell_type": "code",
      "execution_count": null,
      "metadata": {
        "colab": {
          "base_uri": "https://localhost:8080/"
        },
        "id": "MYv7n4lvIyGh",
        "outputId": "e2773c70-13ff-4730-b91a-d37595e0871f"
      },
      "outputs": [
        {
          "name": "stdout",
          "output_type": "stream",
          "text": [
            "1        PF\n",
            "2        PF\n",
            "3        PF\n",
            "4        PF\n",
            "5        PF\n",
            "         ..\n",
            "57911    PF\n",
            "57912    PF\n",
            "57913    PF\n",
            "57914    PF\n",
            "57915    PF\n",
            "Name: Failure_Type, Length: 57915, dtype: object\n"
          ]
        }
      ],
      "source": [
        "y=data.iloc[1:,6]\n",
        "print(y)"
      ]
    },
    {
      "cell_type": "code",
      "execution_count": null,
      "metadata": {
        "id": "AxZigcNvI599"
      },
      "outputs": [],
      "source": [
        "from sklearn.preprocessing import StandardScaler\n",
        "scaler = StandardScaler()\n",
        "x = scaler.fit_transform(x)\n"
      ]
    },
    {
      "cell_type": "code",
      "execution_count": null,
      "metadata": {
        "colab": {
          "base_uri": "https://localhost:8080/"
        },
        "id": "woR8ruXhI_44",
        "outputId": "ef03bbd4-fed6-4564-fbf6-68894ca5b7fa"
      },
      "outputs": [
        {
          "name": "stdout",
          "output_type": "stream",
          "text": [
            "[[-1.74265292  6.3551698  -3.27035284 -0.37892857 -1.2410276 ]\n",
            " [-0.90996918  6.29648165 -3.24058134 -0.01947474 -0.9204404 ]\n",
            " [-2.29777541  6.17007643 -3.16615257  0.98699595 -2.28293601]\n",
            " ...\n",
            " [-0.13358999 -1.20205694  2.11763333 -2.01803799  0.9895686 ]\n",
            " [-0.0900436  -1.20205694  2.11814103 -2.03241614  1.06200678]\n",
            " [-0.07728544 -1.20205694  2.11828977 -2.03241614  1.08322963]]\n"
          ]
        }
      ],
      "source": [
        "print(x)"
      ]
    },
    {
      "cell_type": "code",
      "execution_count": null,
      "metadata": {
        "id": "ltSNm9hfJFdv"
      },
      "outputs": [],
      "source": [
        "from sklearn.model_selection import train_test_split\n",
        "xtrain,xtest,ytrain,ytest = train_test_split(x,y,train_size=0.7)"
      ]
    },
    {
      "cell_type": "code",
      "execution_count": null,
      "metadata": {
        "id": "eBuMfWGSGi-f"
      },
      "outputs": [],
      "source": [
        "from sklearn.svm import SVC"
      ]
    },
    {
      "cell_type": "code",
      "execution_count": null,
      "metadata": {
        "colab": {
          "background_save": true
        },
        "id": "36ghRFJ8JNOy"
      },
      "outputs": [],
      "source": [
        "model = SVC()\n",
        "model=model.fit(xtrain,ytrain)"
      ]
    },
    {
      "cell_type": "code",
      "execution_count": null,
      "metadata": {
        "colab": {
          "base_uri": "https://localhost:8080/"
        },
        "id": "5ZhQUQIpJeP_",
        "outputId": "84c9b91f-9a6b-49db-c633-91b00340b59c"
      },
      "outputs": [
        {
          "name": "stdout",
          "output_type": "stream",
          "text": [
            "['RF' 'PF' 'PF' ... 'NF' 'OF' 'RF']\n"
          ]
        }
      ],
      "source": [
        "op=model.predict(xtest)\n",
        "print(op)"
      ]
    },
    {
      "cell_type": "code",
      "execution_count": null,
      "metadata": {
        "colab": {
          "base_uri": "https://localhost:8080/"
        },
        "id": "WNQ9NsZqJZKC",
        "outputId": "756a5d3e-d17c-451e-d1e7-decb83a662c3"
      },
      "outputs": [
        {
          "name": "stdout",
          "output_type": "stream",
          "text": [
            "              precision    recall  f1-score   support\n",
            "\n",
            "         HDF       0.98      1.00      0.99      2947\n",
            "          NF       0.98      0.77      0.86      2832\n",
            "          OF       0.96      1.00      0.98      2956\n",
            "          PF       0.99      1.00      0.99      2820\n",
            "          RF       0.87      0.99      0.92      2907\n",
            "         TWF       0.95      0.96      0.96      2913\n",
            "\n",
            "    accuracy                           0.95     17375\n",
            "   macro avg       0.96      0.95      0.95     17375\n",
            "weighted avg       0.96      0.95      0.95     17375\n",
            "\n"
          ]
        }
      ],
      "source": [
        "from sklearn.metrics import classification_report\n",
        "cr=classification_report(ytest,op)\n",
        "print(cr)"
      ]
    },
    {
      "cell_type": "code",
      "execution_count": null,
      "metadata": {},
      "outputs": [
        {
          "data": {
            "text/plain": [
              "['svc_model.joblib']"
            ]
          },
          "execution_count": 26,
          "metadata": {},
          "output_type": "execute_result"
        }
      ],
      "source": [
        "import joblib\n",
        "joblib.dump(model, 'svc_model.joblib')"
      ]
    },
    {
      "cell_type": "code",
      "execution_count": null,
      "metadata": {},
      "outputs": [],
      "source": []
    },
    {
      "cell_type": "code",
      "execution_count": null,
      "metadata": {
        "colab": {
          "base_uri": "https://localhost:8080/"
        },
        "id": "mWVOJtZQJlJ0",
        "outputId": "3631d956-ed15-4923-cb52-17c9fff4e878"
      },
      "outputs": [
        {
          "name": "stdout",
          "output_type": "stream",
          "text": [
            "[[2935    0    0    6    0    0]\n",
            " [  51 2206   31   28  457  147]\n",
            " [   6    0 2861    0    0    0]\n",
            " [   0    0    0 2867    0    0]\n",
            " [   0   57    0    0 2835    6]\n",
            " [   0    1   85    0   15 2781]]\n"
          ]
        }
      ],
      "source": [
        "from sklearn.metrics import confusion_matrix,ConfusionMatrixDisplay\n",
        "cm=confusion_matrix(ytest,op)\n",
        "print(cm)"
      ]
    },
    {
      "cell_type": "code",
      "execution_count": null,
      "metadata": {
        "colab": {
          "base_uri": "https://localhost:8080/",
          "height": 466
        },
        "id": "gvnGPMyRJs1B",
        "outputId": "3fb442cf-5db2-414b-d5d9-98095b363fbb"
      },
      "outputs": [
        {
          "data": {
            "text/plain": [
              "<sklearn.metrics._plot.confusion_matrix.ConfusionMatrixDisplay at 0x7e343526b7c0>"
            ]
          },
          "execution_count": 23,
          "metadata": {},
          "output_type": "execute_result"
        },
        {
          "data": {
            "image/png": "[encoded data removed]",
            "text/plain": [
              "<Figure size 640x480 with 2 Axes>"
            ]
          },
          "metadata": {},
          "output_type": "display_data"
        }
      ],
      "source": [
        "disp=ConfusionMatrixDisplay(confusion_matrix=cm,display_labels=model.classes_)\n",
        "disp.plot()"
      ]
    },
    {
      "cell_type": "code",
      "execution_count": null,
      "metadata": {
        "id": "BpZSfQ8ffKlx"
      },
      "outputs": [
        {
          "name": "stdout",
          "output_type": "stream",
          "text": [
            "       SL.No  Air temperature_[K]  Rotational speed_[rpm]  Torque_[Nm]  \\\n",
            "0       1784           298.300000                    2886     3.800000   \n",
            "1        463           297.400000                    2874     4.200000   \n",
            "2         50           298.900000                    2861     4.600000   \n",
            "3        847           296.400000                    2833     5.600000   \n",
            "4       4296           301.800000                    2825     5.800000   \n",
            "...      ...                  ...                     ...          ...   \n",
            "57911  37246           299.804054                    1204    76.548179   \n",
            "57912  37315           300.260142                    1201    76.587838   \n",
            "57913  37277           300.298573                    1200    76.591180   \n",
            "57914  37311           300.377017                    1200    76.598002   \n",
            "57915   7763           300.400000                    1200    76.600000   \n",
            "\n",
            "       Tool wear_[min]  Process temperature_[K] Failure_Type  \n",
            "0                   57               308.000000           PF  \n",
            "1                  118               308.700000           PF  \n",
            "2                  143               309.100000           PF  \n",
            "3                  213               307.400000           PF  \n",
            "4                  215               310.200000           PF  \n",
            "...                ...                      ...          ...  \n",
            "57911               14               310.913366           PF  \n",
            "57912                5               311.438859           PF  \n",
            "57913                4               311.483138           PF  \n",
            "57914                3               311.573520           PF  \n",
            "57915                3               311.600000           PF  \n",
            "\n",
            "[57916 rows x 7 columns]\n",
            "       Air temperature_[K]  Rotational speed_[rpm]  Torque_[Nm]  \\\n",
            "1               297.400000                    2874     4.200000   \n",
            "2               298.900000                    2861     4.600000   \n",
            "3               296.400000                    2833     5.600000   \n",
            "4               301.800000                    2825     5.800000   \n",
            "5               301.500000                    2760     8.000000   \n",
            "...                    ...                     ...          ...   \n",
            "57911           299.804054                    1204    76.548179   \n",
            "57912           300.260142                    1201    76.587838   \n",
            "57913           300.298573                    1200    76.591180   \n",
            "57914           300.377017                    1200    76.598002   \n",
            "57915           300.400000                    1200    76.600000   \n",
            "\n",
            "       Tool wear_[min]  Process temperature_[K]  \n",
            "1                  118               308.700000  \n",
            "2                  143               309.100000  \n",
            "3                  213               307.400000  \n",
            "4                  215               310.200000  \n",
            "5                   15               310.900000  \n",
            "...                ...                      ...  \n",
            "57911               14               310.913366  \n",
            "57912                5               311.438859  \n",
            "57913                4               311.483138  \n",
            "57914                3               311.573520  \n",
            "57915                3               311.600000  \n",
            "\n",
            "[57915 rows x 5 columns]\n",
            "1        PF\n",
            "2        PF\n",
            "3        PF\n",
            "4        PF\n",
            "5        PF\n",
            "         ..\n",
            "57911    PF\n",
            "57912    PF\n",
            "57913    PF\n",
            "57914    PF\n",
            "57915    PF\n",
            "Name: Failure_Type, Length: 57915, dtype: object\n",
            "                         Air temperature_[K]  Rotational speed_[rpm]  \\\n",
            "Air temperature_[K]                 1.000000               -0.101763   \n",
            "Rotational speed_[rpm]             -0.101763                1.000000   \n",
            "Torque_[Nm]                         0.027959               -0.823743   \n",
            "Tool wear_[min]                    -0.137522                0.018326   \n",
            "Process temperature_[K]             0.842863               -0.037345   \n",
            "\n",
            "                         Torque_[Nm]  Tool wear_[min]  Process temperature_[K]  \n",
            "Air temperature_[K]         0.027959        -0.137522                 0.842863  \n",
            "Rotational speed_[rpm]     -0.823743         0.018326                -0.037345  \n",
            "Torque_[Nm]                 1.000000        -0.114001                -0.014054  \n",
            "Tool wear_[min]            -0.114001         1.000000                -0.078930  \n",
            "Process temperature_[K]    -0.014054        -0.078930                 1.000000  \n"
          ]
        },
        {
          "data": {
            "image/png": "[encoded data removed]",
            "text/plain": [
              "<Figure size 1000x800 with 2 Axes>"
            ]
          },
          "metadata": {},
          "output_type": "display_data"
        },
        {
          "name": "stdout",
          "output_type": "stream",
          "text": [
            "1        PF\n",
            "2        PF\n",
            "3        PF\n",
            "4        PF\n",
            "5        PF\n",
            "         ..\n",
            "57911    PF\n",
            "57912    PF\n",
            "57913    PF\n",
            "57914    PF\n",
            "57915    PF\n",
            "Name: Failure_Type, Length: 57915, dtype: object\n",
            "[[-1.74265292  6.3551698  -3.27035284 -0.37892857 -1.2410276 ]\n",
            " [-0.90996918  6.29648165 -3.24058134 -0.01947474 -0.9204404 ]\n",
            " [-2.29777541  6.17007643 -3.16615257  0.98699595 -2.28293601]\n",
            " ...\n",
            " [-0.13358999 -1.20205694  2.11763333 -2.01803799  0.9895686 ]\n",
            " [-0.0900436  -1.20205694  2.11814103 -2.03241614  1.06200678]\n",
            " [-0.07728544 -1.20205694  2.11828977 -2.03241614  1.08322963]]\n"
          ]
        },
        {
          "ename": "NameError",
          "evalue": "name 'op' is not defined",
          "output_type": "error",
          "traceback": [
            "\u001b[1;31m---------------------------------------------------------------------------\u001b[0m",
            "\u001b[1;31mNameError\u001b[0m                                 Traceback (most recent call last)",
            "Cell \u001b[1;32mIn[11], line 33\u001b[0m\n\u001b[0;32m     31\u001b[0m model\u001b[38;5;241m=\u001b[39mmodel\u001b[38;5;241m.\u001b[39mfit(xtrain,ytrain)\n\u001b[0;32m     32\u001b[0m \u001b[38;5;28;01mfrom\u001b[39;00m \u001b[38;5;21;01msklearn\u001b[39;00m\u001b[38;5;21;01m.\u001b[39;00m\u001b[38;5;21;01mmetrics\u001b[39;00m \u001b[38;5;28;01mimport\u001b[39;00m classification_report\n\u001b[1;32m---> 33\u001b[0m cr\u001b[38;5;241m=\u001b[39mclassification_report(ytest,\u001b[43mop\u001b[49m)\n\u001b[0;32m     34\u001b[0m \u001b[38;5;28mprint\u001b[39m(cr)\n",
            "\u001b[1;31mNameError\u001b[0m: name 'op' is not defined"
          ]
        }
      ],
      "source": [
        "import pandas as pd\n",
        "data = pd.read_excel('newdataset.xlsx')\n",
        "print(data)\n",
        "x = data.iloc[1:,1:6]\n",
        "print(x)\n",
        "y=data.iloc[1:,6]\n",
        "print(y)\n",
        "# Calculate Pearson correlation matrix\n",
        "correlation_matrix = x.corr()\n",
        "# x.corr()\n",
        "# Print the correlation matrix\n",
        "print(correlation_matrix)\n",
        "import seaborn as sns\n",
        "import matplotlib.pyplot as plt\n",
        "\n",
        "# Create a heatmap of the correlation matrix\n",
        "plt.figure(figsize=(10, 8))\n",
        "sns.heatmap(correlation_matrix, annot=True, cmap='coolwarm', center=0)\n",
        "plt.show()\n",
        "y=data.iloc[1:,6]\n",
        "print(y)\n",
        "from sklearn.preprocessing import StandardScaler\n",
        "scaler = StandardScaler()\n",
        "x = scaler.fit_transform(x)\n",
        "\n",
        "print(x)\n",
        "from sklearn.model_selection import train_test_split\n",
        "xtrain,xtest,ytrain,ytest = train_test_split(x,y,train_size=0.7)\n",
        "from sklearn.svm import SVC\n",
        "model = SVC()\n",
        "model=model.fit(xtrain,ytrain)\n",
        "from sklearn.metrics import classification_report\n",
        "cr=classification_report(ytest,op)\n",
        "print(cr)\n"
      ]
    },
    {
      "cell_type": "code",
      "execution_count": null,
      "metadata": {},
      "outputs": [
        {
          "name": "stdout",
          "output_type": "stream",
          "text": [
            "Requirement already satisfied: scikit-learn in c:\\users\\arunj\\appdata\\roaming\\python\\python311\\site-packages (1.4.1.post1)\n",
            "Requirement already satisfied: numpy<2.0,>=1.19.5 in c:\\users\\arunj\\appdata\\local\\programs\\python\\python311\\lib\\site-packages (from scikit-learn) (1.26.4)\n",
            "Requirement already satisfied: scipy>=1.6.0 in c:\\users\\arunj\\appdata\\local\\programs\\python\\python311\\lib\\site-packages (from scikit-learn) (1.12.0)\n",
            "Requirement already satisfied: joblib>=1.2.0 in c:\\users\\arunj\\appdata\\local\\programs\\python\\python311\\lib\\site-packages (from scikit-learn) (1.4.0)\n",
            "Requirement already satisfied: threadpoolctl>=2.0.0 in c:\\users\\arunj\\appdata\\local\\programs\\python\\python311\\lib\\site-packages (from scikit-learn) (3.4.0)\n",
            "Note: you may need to restart the kernel to use updated packages.\n"
          ]
        }
      ],
      "source": [
        "pip install scikit-learn"
      ]
    },
    {
      "cell_type": "code",
      "execution_count": null,
      "metadata": {},
      "outputs": [],
      "source": []
    }
  ],
  "metadata": {
    "colab": {
      "collapsed_sections": [
        "TpvYJyyWHJhm"
      ],
      "provenance": []
    },
    "kernelspec": {
      "display_name": "Python 3",
      "name": "python3"
    },
    "language_info": {
      "codemirror_mode": {
        "name": "ipython",
        "version": 3
      },
      "file_extension": ".py",
      "mimetype": "text/x-python",
      "name": "python",
      "nbconvert_exporter": "python",
      "pygments_lexer": "ipython3",
      "version": "3.12.2"
    }
  },
  "nbformat": 4,
  "nbformat_minor": 0
}
